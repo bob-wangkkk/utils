{
 "cells": [
  {
   "cell_type": "code",
   "execution_count": null,
   "id": "acquired-insertion",
   "metadata": {},
   "outputs": [],
   "source": [
    "# encoding:utf-8\n",
    "import os\n",
    "import os.path\n",
    " \n",
    "root_dir = \"/root/utils/test\"\n",
    " \n",
    "timit_path = \"/root/utils/test\"\n",
    "# 文件保存路径\n",
    " \n",
    "sph2pipe_path = \"/home/dream/Research/kaldi-master/tools/sph2pipe_v2.5/sph2pipe\"\n",
    "# sph2pipe工具所在路径\n",
    " \n",
    "f = open(\"/home/dream/Research/Data/timit_sph2pipe/make_sph2pipe_file.txt\", 'w')\n",
    " \n",
    "for root, dirs, files in os.walk(root_dir):\n",
    "    for fn in files:\n",
    "        if fn[len(fn)-3:len(fn)]=='wav':\n",
    "            sourcefile = timit_path+root[len(root_dir):]+\"/\"+fn\n",
    "            targetfile = root[len(root)-5:len(root)]+\"_\"+fn\n",
    "            s = sph2pipe_path + \" -f wav \" + sourcefile+\" \"+targetfile+\"\\n\"\n",
    "            f.write(s.replace('\\\\','/'))\n",
    "f.close()"
   ]
  }
 ],
 "metadata": {
  "kernelspec": {
   "display_name": "Python 3",
   "language": "python",
   "name": "python3"
  },
  "language_info": {
   "codemirror_mode": {
    "name": "ipython",
    "version": 3
   },
   "file_extension": ".py",
   "mimetype": "text/x-python",
   "name": "python",
   "nbconvert_exporter": "python",
   "pygments_lexer": "ipython3",
   "version": "3.6.13"
  }
 },
 "nbformat": 4,
 "nbformat_minor": 5
}
